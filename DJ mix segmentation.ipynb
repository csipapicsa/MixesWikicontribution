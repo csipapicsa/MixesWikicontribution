{
 "cells": [
  {
   "cell_type": "code",
   "execution_count": 1,
   "metadata": {},
   "outputs": [],
   "source": [
    "import numpy as np\n",
    "import librosa\n",
    "from sklearn.cluster import HDBSCAN\n",
    "import umap\n",
    "import matplotlib.pyplot as plt\n",
    "from scipy.spatial.distance import euclidean\n",
    "\n"
   ]
  },
  {
   "cell_type": "markdown",
   "metadata": {},
   "source": [
    "### Check this paper"
   ]
  },
  {
   "cell_type": "markdown",
   "metadata": {},
   "source": [
    "implemented based on this paper: \n",
    "\n",
    "\"Deep Learning-based Audio Representations for the Analysis and Visualisation of Electronic Dance Music DJ Mixes\" \n",
    "\n",
    "https://qmro.qmul.ac.uk/xmlui/handle/123456789/104084"
   ]
  },
  {
   "cell_type": "code",
   "execution_count": null,
   "metadata": {},
   "outputs": [],
   "source": [
    "def analyze_dj_mix_improved(audio_path, min_track_duration_seconds=120):\n",
    "    \"\"\"\n",
    "    Improved DJ mix analysis with constraints on track duration\n",
    "    \n",
    "    Parameters:\n",
    "    audio_path (str): Path to the DJ mix audio file\n",
    "    min_track_duration_seconds (int): Minimum track duration to consider\n",
    "    \n",
    "    Returns:\n",
    "    dict: Information about tracks with start/end times in seconds\n",
    "    \"\"\"\n",
    "    y, sr = librosa.load(audio_path)\n",
    "\n",
    "    # [Same initial feature extraction as before]\n",
    "    hop_length = sr // 10  # 100ms hop length as in the paper\n",
    "    mfccs = librosa.feature.mfcc(y=y, sr=sr, hop_length=hop_length, n_mfcc=20)\n",
    "    print(\"Audio is split into frames of shape:\", mfccs.shape)\n",
    "    # remove the first MFCC coefficient as it is usually not used.\n",
    "    mfccs = mfccs[1:, :]\n",
    "    print(\"After removing the first MFCC coefficient, shape is:\", mfccs.shape)\n",
    "\n",
    "\n",
    "    \n",
    "    # Time-average MFCCs to get per-second features\n",
    "    frames_per_second = sr // hop_length\n",
    "    num_seconds = len(y) // sr\n",
    "    features = []\n",
    "    \n",
    "    print(f\"Number of seconds: {num_seconds}\")\n",
    "    for i in range(num_seconds):\n",
    "        start_frame = i * frames_per_second\n",
    "        end_frame = min((i + 1) * frames_per_second, mfccs.shape[1])\n",
    "        if start_frame < mfccs.shape[1]:\n",
    "            second_features = np.mean(mfccs[:, start_frame:end_frame], axis=1)\n",
    "            features.append(second_features)\n",
    "    \n",
    "    features = np.array(features)\n",
    "    \n",
    "    # Dimensionality reduction with UMAP (used in the paper)\n",
    "    reducer = umap.UMAP(n_components=2)\n",
    "    embedding = reducer.fit_transform(features)\n",
    "    \n",
    "    # Adjust HDBSCAN parameters for more reasonable clustering\n",
    "    clusterer = HDBSCAN(min_cluster_size=30, min_samples=5)\n",
    "    cluster_labels = clusterer.fit_predict(embedding)\n",
    "    \n",
    "    # Find potential boundaries with temporal constraints\n",
    "    potential_boundaries = []\n",
    "    current_cluster = cluster_labels[0]\n",
    "    \n",
    "    for i in range(1, len(cluster_labels)):\n",
    "        if (cluster_labels[i] != current_cluster and \n",
    "            cluster_labels[i] != -1 and \n",
    "            current_cluster != -1):\n",
    "            potential_boundaries.append(i)\n",
    "            current_cluster = cluster_labels[i]\n",
    "    \n",
    "    # Apply minimum duration constraint\n",
    "    track_boundaries = []\n",
    "    last_boundary = 0\n",
    "    \n",
    "    for boundary in potential_boundaries:\n",
    "        if boundary - last_boundary >= min_track_duration_seconds:\n",
    "            track_boundaries.append(boundary)\n",
    "            last_boundary = boundary\n",
    "    \n",
    "    # Create track list with start/end times\n",
    "    tracks = []\n",
    "    start_time = 0\n",
    "    \n",
    "    for i, boundary in enumerate(track_boundaries):\n",
    "        end_time = boundary\n",
    "        tracks.append({\n",
    "            'track_number': i + 1,\n",
    "            'start_time_seconds': start_time,\n",
    "            'end_time_seconds': end_time,\n",
    "            'duration_seconds': end_time - start_time,\n",
    "            'start_time_formatted': format_time(start_time),\n",
    "            'end_time_formatted': format_time(end_time)\n",
    "        })\n",
    "        start_time = end_time\n",
    "    \n",
    "    # Add the final track\n",
    "    tracks.append({\n",
    "        'track_number': len(tracks) + 1,\n",
    "        'start_time_seconds': start_time,\n",
    "        'end_time_seconds': len(cluster_labels),\n",
    "        'duration_seconds': len(cluster_labels) - start_time,\n",
    "        'start_time_formatted': format_time(start_time),\n",
    "        'end_time_formatted': format_time(len(cluster_labels))\n",
    "    })\n",
    "    \n",
    "    return {\n",
    "        'num_tracks': len(tracks),\n",
    "        'tracks': tracks\n",
    "    }\n",
    "\n",
    "def format_time(seconds):\n",
    "    \"\"\"Convert seconds to HH:MM:SS format\"\"\"\n",
    "    hours = seconds // 3600\n",
    "    minutes = (seconds % 3600) // 60\n",
    "    secs = seconds % 60\n",
    "    return f\"{hours:02d}:{minutes:02d}:{secs:02d}\"\n",
    "\n",
    "# Example of printing the track list\n",
    "def print_track_list(results):\n",
    "    print(f\"DJ Mix contains {results['num_tracks']} tracks:\\n\")\n",
    "    print(f\"{'Track':^6} | {'Start Time':^10} | {'End Time':^10} | {'Duration':^10}\")\n",
    "    print(\"-\" * 45)\n",
    "    \n",
    "    for track in results['tracks']:\n",
    "            print(f\"{track['track_number']:^6} | {track['start_time_formatted']:^10} | \"\n",
    "                f\"{track['end_time_formatted']:^10} | {format_time(track['duration_seconds']):^10}\")"
   ]
  },
  {
   "cell_type": "code",
   "execution_count": 26,
   "metadata": {},
   "outputs": [
    {
     "name": "stdout",
     "output_type": "stream",
     "text": [
      "Audio is split into frames of shape: (20, 37849)\n",
      "After removing the first MFCC coefficient, shape is: (19, 37849)\n",
      "Number of seconds: 3784\n"
     ]
    }
   ],
   "source": [
    "# Example usage\n",
    "audio_path = \"breakbeat_128kbps.mp3\"\n",
    "MINIMUM_TRACK_DURATION_SECONDS = 180 # longer better -> however can't catch the changes\n",
    "res = analyze_dj_mix_improved(audio_path, min_track_duration_seconds=MINIMUM_TRACK_DURATION_SECONDS)"
   ]
  },
  {
   "cell_type": "code",
   "execution_count": 28,
   "metadata": {},
   "outputs": [
    {
     "name": "stdout",
     "output_type": "stream",
     "text": [
      "DJ Mix contains 20 tracks:\n",
      "\n",
      "Track  | Start Time |  End Time  |  Duration \n",
      "---------------------------------------------\n",
      "  1    |  00:00:00  |  00:03:47  |  00:03:47 \n",
      "  2    |  00:03:47  |  00:06:47  |  00:03:00 \n",
      "  3    |  00:06:47  |  00:09:48  |  00:03:01 \n",
      "  4    |  00:09:48  |  00:12:49  |  00:03:01 \n",
      "  5    |  00:12:49  |  00:15:51  |  00:03:02 \n",
      "  6    |  00:15:51  |  00:18:57  |  00:03:06 \n",
      "  7    |  00:18:57  |  00:22:01  |  00:03:04 \n",
      "  8    |  00:22:01  |  00:25:01  |  00:03:00 \n",
      "  9    |  00:25:01  |  00:28:10  |  00:03:09 \n",
      "  10   |  00:28:10  |  00:31:51  |  00:03:41 \n",
      "  11   |  00:31:51  |  00:34:51  |  00:03:00 \n",
      "  12   |  00:34:51  |  00:38:28  |  00:03:37 \n",
      "  13   |  00:38:28  |  00:41:42  |  00:03:14 \n",
      "  14   |  00:41:42  |  00:44:52  |  00:03:10 \n",
      "  15   |  00:44:52  |  00:48:06  |  00:03:14 \n",
      "  16   |  00:48:06  |  00:51:07  |  00:03:01 \n",
      "  17   |  00:51:07  |  00:54:08  |  00:03:01 \n",
      "  18   |  00:54:08  |  00:57:08  |  00:03:00 \n",
      "  19   |  00:57:08  |  01:00:17  |  00:03:09 \n",
      "  20   |  01:00:17  |  01:03:04  |  00:02:47 \n"
     ]
    }
   ],
   "source": [
    "print_track_list(res)"
   ]
  }
 ],
 "metadata": {
  "kernelspec": {
   "display_name": "Python 3",
   "language": "python",
   "name": "python3"
  },
  "language_info": {
   "codemirror_mode": {
    "name": "ipython",
    "version": 3
   },
   "file_extension": ".py",
   "mimetype": "text/x-python",
   "name": "python",
   "nbconvert_exporter": "python",
   "pygments_lexer": "ipython3",
   "version": "3.12.1"
  }
 },
 "nbformat": 4,
 "nbformat_minor": 2
}
